{
 "cells": [
  {
   "cell_type": "code",
   "execution_count": 1,
   "id": "ab41221b",
   "metadata": {},
   "outputs": [],
   "source": [
    "import pandas as pd"
   ]
  },
  {
   "cell_type": "code",
   "execution_count": 2,
   "id": "299780c6",
   "metadata": {},
   "outputs": [],
   "source": [
    "import numpy as np"
   ]
  },
  {
   "cell_type": "code",
   "execution_count": 3,
   "id": "838792b0",
   "metadata": {},
   "outputs": [],
   "source": [
    "df=pd.read_csv('Company_Table (1).csv')"
   ]
  },
  {
   "cell_type": "code",
   "execution_count": 4,
   "id": "144d3082",
   "metadata": {},
   "outputs": [
    {
     "data": {
      "text/html": [
       "<div>\n",
       "<style scoped>\n",
       "    .dataframe tbody tr th:only-of-type {\n",
       "        vertical-align: middle;\n",
       "    }\n",
       "\n",
       "    .dataframe tbody tr th {\n",
       "        vertical-align: top;\n",
       "    }\n",
       "\n",
       "    .dataframe thead th {\n",
       "        text-align: right;\n",
       "    }\n",
       "</style>\n",
       "<table border=\"1\" class=\"dataframe\">\n",
       "  <thead>\n",
       "    <tr style=\"text-align: right;\">\n",
       "      <th></th>\n",
       "      <th>CompanyID</th>\n",
       "      <th>Company_Name</th>\n",
       "      <th>Industry</th>\n",
       "      <th>Employee_Count</th>\n",
       "      <th>LinkedIn_Followers</th>\n",
       "    </tr>\n",
       "  </thead>\n",
       "  <tbody>\n",
       "    <tr>\n",
       "      <th>0</th>\n",
       "      <td>C1</td>\n",
       "      <td>American Express</td>\n",
       "      <td>Fincial Services</td>\n",
       "      <td>10001</td>\n",
       "      <td>1701642</td>\n",
       "    </tr>\n",
       "    <tr>\n",
       "      <th>1</th>\n",
       "      <td>C2</td>\n",
       "      <td>Accenture in India</td>\n",
       "      <td>Information Technology &amp; Services</td>\n",
       "      <td>10001</td>\n",
       "      <td>1399337</td>\n",
       "    </tr>\n",
       "    <tr>\n",
       "      <th>2</th>\n",
       "      <td>C3</td>\n",
       "      <td>Colgate-Palmolive</td>\n",
       "      <td>Consumer Goods</td>\n",
       "      <td>10001</td>\n",
       "      <td>1975214</td>\n",
       "    </tr>\n",
       "    <tr>\n",
       "      <th>3</th>\n",
       "      <td>C4</td>\n",
       "      <td>Advance Auto Parts</td>\n",
       "      <td>Retail</td>\n",
       "      <td>10001</td>\n",
       "      <td>101668</td>\n",
       "    </tr>\n",
       "    <tr>\n",
       "      <th>4</th>\n",
       "      <td>C5</td>\n",
       "      <td>Novartis India</td>\n",
       "      <td>Pharmaceuticals</td>\n",
       "      <td>10001</td>\n",
       "      <td>111727</td>\n",
       "    </tr>\n",
       "    <tr>\n",
       "      <th>...</th>\n",
       "      <td>...</td>\n",
       "      <td>...</td>\n",
       "      <td>...</td>\n",
       "      <td>...</td>\n",
       "      <td>...</td>\n",
       "    </tr>\n",
       "    <tr>\n",
       "      <th>282</th>\n",
       "      <td>C283</td>\n",
       "      <td>QuestWorkx</td>\n",
       "      <td>Human Resources</td>\n",
       "      <td>10</td>\n",
       "      <td>2878</td>\n",
       "    </tr>\n",
       "    <tr>\n",
       "      <th>283</th>\n",
       "      <td>C284</td>\n",
       "      <td>ACZ Global Pvt Ltd</td>\n",
       "      <td>Human Resources</td>\n",
       "      <td>50</td>\n",
       "      <td>5047</td>\n",
       "    </tr>\n",
       "    <tr>\n",
       "      <th>284</th>\n",
       "      <td>C285</td>\n",
       "      <td>Lennox India Technology Centre</td>\n",
       "      <td>Mechanical Or Industrial Engineering</td>\n",
       "      <td>1000</td>\n",
       "      <td>29271</td>\n",
       "    </tr>\n",
       "    <tr>\n",
       "      <th>285</th>\n",
       "      <td>C286</td>\n",
       "      <td>Onqanet Technologies Pvt. Ltd.</td>\n",
       "      <td>Information Technology &amp; Services</td>\n",
       "      <td>200</td>\n",
       "      <td>814</td>\n",
       "    </tr>\n",
       "    <tr>\n",
       "      <th>286</th>\n",
       "      <td>C287</td>\n",
       "      <td>Zero Gravity Photography</td>\n",
       "      <td>Photography</td>\n",
       "      <td>500</td>\n",
       "      <td>2781</td>\n",
       "    </tr>\n",
       "  </tbody>\n",
       "</table>\n",
       "<p>287 rows × 5 columns</p>\n",
       "</div>"
      ],
      "text/plain": [
       "    CompanyID                    Company_Name  \\\n",
       "0          C1              American Express     \n",
       "1          C2              Accenture in India   \n",
       "2          C3               Colgate-Palmolive   \n",
       "3          C4              Advance Auto Parts   \n",
       "4          C5                  Novartis India   \n",
       "..        ...                             ...   \n",
       "282      C283                      QuestWorkx   \n",
       "283      C284              ACZ Global Pvt Ltd   \n",
       "284      C285  Lennox India Technology Centre   \n",
       "285      C286  Onqanet Technologies Pvt. Ltd.   \n",
       "286      C287        Zero Gravity Photography   \n",
       "\n",
       "                                 Industry Employee_Count LinkedIn_Followers  \n",
       "0                       Fincial Services           10001            1701642  \n",
       "1       Information Technology & Services          10001            1399337  \n",
       "2                          Consumer Goods          10001           1975214   \n",
       "3                                  Retail          10001            101668   \n",
       "4                       Pharmaceuticals            10001            111727   \n",
       "..                                    ...            ...                ...  \n",
       "282                      Human Resources              10               2878  \n",
       "283                      Human Resources              50               5047  \n",
       "284  Mechanical Or Industrial Engineering           1000              29271  \n",
       "285     Information Technology & Services            200                814  \n",
       "286                           Photography            500               2781  \n",
       "\n",
       "[287 rows x 5 columns]"
      ]
     },
     "execution_count": 4,
     "metadata": {},
     "output_type": "execute_result"
    }
   ],
   "source": [
    "df"
   ]
  },
  {
   "cell_type": "code",
   "execution_count": 5,
   "id": "12830650",
   "metadata": {},
   "outputs": [
    {
     "data": {
      "text/plain": [
       "CompanyID             0\n",
       "Company_Name          0\n",
       "Industry              2\n",
       "Employee_Count        2\n",
       "LinkedIn_Followers    3\n",
       "dtype: int64"
      ]
     },
     "execution_count": 5,
     "metadata": {},
     "output_type": "execute_result"
    }
   ],
   "source": [
    "df.isnull().sum()"
   ]
  },
  {
   "cell_type": "code",
   "execution_count": 6,
   "id": "1f01fefc",
   "metadata": {},
   "outputs": [],
   "source": [
    "df.dropna(inplace=True)"
   ]
  },
  {
   "cell_type": "code",
   "execution_count": null,
   "id": "7582ab6f",
   "metadata": {},
   "outputs": [],
   "source": [
    "df"
   ]
  },
  {
   "cell_type": "code",
   "execution_count": null,
   "id": "67e53793",
   "metadata": {},
   "outputs": [],
   "source": [
    "df['Class']=pd.cut(x=df[\"Employee_Count\",\"LinkedIn_Followers\"],\n",
    "                   bins=[125,3500,5001,7500,np.inf],\n",
    "                   labels=[\"Class4\",\"Class3\",\"Class2\",\"Class1\"])"
   ]
  },
  {
   "cell_type": "code",
   "execution_count": 8,
   "id": "0a78530f",
   "metadata": {},
   "outputs": [
    {
     "data": {
      "text/plain": [
       "array(['1701642', '1399337', '1975214', '101668', '111727', '84023',\n",
       "       '67636', '17774440', '127941', '981227', '516149', '444167',\n",
       "       '2258970', '647910', '558346', '2154', '660827', '5922917',\n",
       "       '1242164', '435909', '3007322', '1302821', '108836', '1251058',\n",
       "       '442595', '21553', '32', '719232', '142128', '615145', '1075143',\n",
       "       '102725', '90749', '139474', '72352', '1417673', '266728',\n",
       "       '1205434', '2095', '54333', '53466', '14591', '2221925', '4438',\n",
       "       '163249', '220860', '499613', '62475', '28308', '43182', '998435',\n",
       "       '3645053', '230574', '94160', '616381', '3813311', '142187',\n",
       "       '1096069', '69790', '98792', '444685', '1557165', '601539',\n",
       "       '189323', '39755', '630166', '14647', '277661', '44879', '171020',\n",
       "       '42957', '1160704', '65732', '10651643', '89972', '65651',\n",
       "       '169685', '831255', '224654', '2292', '1816083', '3288', '76573',\n",
       "       '2777840', '151954', '14405435', '4170257', '480426', '382650',\n",
       "       '242803', '7486', '4509594', '65866', '333491', '227081', '409137',\n",
       "       '13671', '2110', '3648', '946', '39172', '2668', '11317', '1146',\n",
       "       '13694', '2469', '26396', '2812', '3461', '10426', '2055', '1171',\n",
       "       '34034', '13', '1172', '745', '17', '615', '132', '529', '56', '6',\n",
       "       '9', '25', '23', '2073841', '3', '1339', '708', '3018', '7',\n",
       "       '1444', '401', '3039', '133', '136', '2073928', '229016', '76',\n",
       "       '262', '24806', '30', '42703', '15051', '27366', '54517', '18857',\n",
       "       '15156', '795', '13050', '49516', '2032291', '565', '6072255',\n",
       "       '96', '17460', '497397', '15139', '207509', '6983', '20578',\n",
       "       '4037', '93', '12717', '26284', '8403', '5782', '45224', '1279',\n",
       "       '72', '4375', '1403', '139', '28630', '100', '243', '111480',\n",
       "       '13425', '1416744', '4998', '36810', '6175', '10', '1198', '256',\n",
       "       '449', '5586', '7774', '520', '687', '614', '53430', '6589',\n",
       "       '19523', '2788', '16413', '34512', '28164', '3044675', '855528',\n",
       "       '764385', '45066', '234769', '264396', '30048', '5101101', '75719',\n",
       "       '24385', '14628', '19488', '239980', '63236', '1760160', '260894',\n",
       "       '64937', '18355', '6475', '120', '3825', '1149075', '1001176',\n",
       "       '14405502', '3321410', '64576', '115749', '10607460', '642397',\n",
       "       '2912399', '764411', '27544868', '4170269', '1534350', '4853',\n",
       "       '283462', '72113', '424', '3640847', '315529', '712805', '1085',\n",
       "       '151957', '1760206', '4061543', '20483', '636231', '96828',\n",
       "       '77201', '845719', '339185', '9872', '196183', '1953189',\n",
       "       '6654058', '332083', '291967', '13587', '148115', '17263708',\n",
       "       '2855753', '26114780', '36447', '45424', '80745', '446224',\n",
       "       '224658', '16636', '21819', '98841', '2269', '7040644', '3946',\n",
       "       '1660195', '2057', '8672', '1182856', '24258', '2878', '5047',\n",
       "       '29271', '814', '2781'], dtype=object)"
      ]
     },
     "execution_count": 8,
     "metadata": {},
     "output_type": "execute_result"
    }
   ],
   "source": [
    "df.LinkedIn_Followers.unique()"
   ]
  },
  {
   "cell_type": "code",
   "execution_count": 7,
   "id": "e2a17bbf",
   "metadata": {},
   "outputs": [],
   "source": [
    "df[\"LinkedIn_Followers\"]=df[\"LinkedIn_Followers\"].str.replace(\"\\xa0\",\"\")"
   ]
  },
  {
   "cell_type": "code",
   "execution_count": 11,
   "id": "a261fa85",
   "metadata": {},
   "outputs": [],
   "source": [
    "df[\"LinkedIn_Followers\"]=pd.to_numeric(df[\"LinkedIn_Followers\"],errors=\"coerce\")"
   ]
  },
  {
   "cell_type": "code",
   "execution_count": 17,
   "id": "7690b8a8",
   "metadata": {},
   "outputs": [],
   "source": [
    "df[\"Employee_Count\"]=pd.to_numeric(df[\"Employee_Count\"],errors=\"coerce\")"
   ]
  },
  {
   "cell_type": "code",
   "execution_count": 18,
   "id": "69ad2010",
   "metadata": {},
   "outputs": [
    {
     "data": {
      "text/plain": [
       "CompanyID             0\n",
       "Company_Name          0\n",
       "Industry              0\n",
       "Employee_Count        0\n",
       "LinkedIn_Followers    0\n",
       "dtype: int64"
      ]
     },
     "execution_count": 18,
     "metadata": {},
     "output_type": "execute_result"
    }
   ],
   "source": [
    "df.isnull().sum()"
   ]
  },
  {
   "cell_type": "code",
   "execution_count": null,
   "id": "ed0aa169",
   "metadata": {},
   "outputs": [],
   "source": [
    "df[\"CompanyID\"].value_counts()"
   ]
  },
  {
   "cell_type": "code",
   "execution_count": 20,
   "id": "a6f52e87",
   "metadata": {},
   "outputs": [],
   "source": [
    "from sklearn.cluster import KMeans\n",
    "Kmeans=KMeans(4)"
   ]
  },
  {
   "cell_type": "code",
   "execution_count": 21,
   "id": "87ae838b",
   "metadata": {},
   "outputs": [],
   "source": [
    "new_df=df[['Employee_Count', 'LinkedIn_Followers']]\n"
   ]
  },
  {
   "cell_type": "code",
   "execution_count": 12,
   "id": "fb3df24c",
   "metadata": {},
   "outputs": [
    {
     "data": {
      "text/plain": [
       "CompanyID             object\n",
       "Company_Name          object\n",
       "Industry              object\n",
       "Employee_Count        object\n",
       "LinkedIn_Followers     int64\n",
       "dtype: object"
      ]
     },
     "execution_count": 12,
     "metadata": {},
     "output_type": "execute_result"
    }
   ],
   "source": [
    "df.dtypes"
   ]
  },
  {
   "cell_type": "code",
   "execution_count": 16,
   "id": "e39928b7",
   "metadata": {},
   "outputs": [
    {
     "data": {
      "text/plain": [
       "array(['10001', '5000', '200', '10000', '1000', '500', '5001', '50', '10',\n",
       "       '226', '7', '44', '2467', '2', '32', '14', '110', '19', '239',\n",
       "       '29', '13', '84', '5', '1', '15', '22', '0', '1038', '120', '1274',\n",
       "       '294536', '51', '9', '279', '8', '236', '5640', '53', '287', '82',\n",
       "       '56', '170', '44835', '18568'], dtype=object)"
      ]
     },
     "execution_count": 16,
     "metadata": {},
     "output_type": "execute_result"
    }
   ],
   "source": [
    "df.Employee_Count .unique()"
   ]
  },
  {
   "cell_type": "code",
   "execution_count": 15,
   "id": "fb26f64f",
   "metadata": {},
   "outputs": [],
   "source": [
    "df[\"Employee_Count\"]=df[\"Employee_Count\"].str.replace(\"\\xa0\",\"\")"
   ]
  },
  {
   "cell_type": "code",
   "execution_count": 22,
   "id": "cb9a6830",
   "metadata": {},
   "outputs": [
    {
     "data": {
      "text/plain": [
       "KMeans(n_clusters=4)"
      ]
     },
     "execution_count": 22,
     "metadata": {},
     "output_type": "execute_result"
    }
   ],
   "source": [
    "Kmeans.fit(new_df)"
   ]
  },
  {
   "cell_type": "code",
   "execution_count": 23,
   "id": "fe1e0bba",
   "metadata": {},
   "outputs": [],
   "source": [
    "cluster_value=Kmeans.predict(new_df)"
   ]
  },
  {
   "cell_type": "code",
   "execution_count": 24,
   "id": "431c3cf3",
   "metadata": {},
   "outputs": [
    {
     "data": {
      "text/plain": [
       "array([0, 0, 0, 0, 0, 0, 0, 1, 0, 0, 0, 0, 2, 0, 0, 0, 0, 2, 0, 0, 2, 0,\n",
       "       0, 0, 0, 0, 0, 0, 0, 0, 0, 0, 0, 0, 0, 0, 0, 0, 0, 0, 0, 0, 2, 0,\n",
       "       0, 0, 0, 0, 0, 0, 0, 2, 0, 0, 0, 2, 0, 0, 0, 0, 0, 0, 0, 0, 0, 0,\n",
       "       0, 0, 0, 0, 0, 0, 0, 1, 0, 0, 0, 0, 0, 0, 0, 0, 0, 2, 0, 1, 2, 0,\n",
       "       0, 0, 0, 2, 0, 0, 0, 0, 0, 0, 0, 0, 0, 0, 0, 0, 0, 0, 0, 0, 0, 0,\n",
       "       0, 0, 0, 0, 0, 0, 0, 0, 0, 0, 0, 0, 0, 0, 0, 0, 0, 0, 0, 0, 0, 0,\n",
       "       0, 0, 0, 0, 0, 0, 0, 0, 0, 0, 0, 0, 0, 0, 0, 0, 0, 0, 0, 0, 0, 0,\n",
       "       0, 0, 2, 0, 0, 0, 0, 0, 0, 0, 0, 0, 0, 0, 0, 0, 0, 0, 0, 0, 0, 0,\n",
       "       0, 0, 0, 0, 0, 0, 0, 0, 0, 0, 0, 0, 0, 0, 0, 0, 0, 0, 0, 0, 0, 0,\n",
       "       0, 0, 0, 2, 0, 0, 0, 0, 0, 0, 2, 0, 0, 0, 0, 0, 0, 0, 0, 0, 0, 0,\n",
       "       0, 0, 0, 0, 1, 2, 0, 0, 1, 0, 2, 0, 3, 2, 0, 0, 0, 0, 0, 2, 0, 0,\n",
       "       0, 0, 0, 2, 0, 0, 0, 0, 0, 0, 0, 0, 0, 2, 0, 0, 0, 0, 1, 2, 3, 0,\n",
       "       0, 0, 0, 0, 0, 0, 0, 0, 2, 0, 0, 0, 0, 0, 0, 0, 0, 0, 0, 0])"
      ]
     },
     "execution_count": 24,
     "metadata": {},
     "output_type": "execute_result"
    }
   ],
   "source": [
    "cluster_value"
   ]
  },
  {
   "cell_type": "code",
   "execution_count": 25,
   "id": "c33b297b",
   "metadata": {},
   "outputs": [],
   "source": [
    "df[\"clusters\"]=cluster_value"
   ]
  },
  {
   "cell_type": "code",
   "execution_count": 26,
   "id": "f75ab8ef",
   "metadata": {},
   "outputs": [
    {
     "data": {
      "text/plain": [
       "0    256\n",
       "2     20\n",
       "1      6\n",
       "3      2\n",
       "Name: clusters, dtype: int64"
      ]
     },
     "execution_count": 26,
     "metadata": {},
     "output_type": "execute_result"
    }
   ],
   "source": [
    "df[\"clusters\"].value_counts()"
   ]
  },
  {
   "cell_type": "code",
   "execution_count": 27,
   "id": "0766f867",
   "metadata": {},
   "outputs": [
    {
     "data": {
      "text/html": [
       "<div>\n",
       "<style scoped>\n",
       "    .dataframe tbody tr th:only-of-type {\n",
       "        vertical-align: middle;\n",
       "    }\n",
       "\n",
       "    .dataframe tbody tr th {\n",
       "        vertical-align: top;\n",
       "    }\n",
       "\n",
       "    .dataframe thead th {\n",
       "        text-align: right;\n",
       "    }\n",
       "</style>\n",
       "<table border=\"1\" class=\"dataframe\">\n",
       "  <thead>\n",
       "    <tr style=\"text-align: right;\">\n",
       "      <th></th>\n",
       "      <th>CompanyID</th>\n",
       "      <th>Company_Name</th>\n",
       "      <th>Industry</th>\n",
       "      <th>Employee_Count</th>\n",
       "      <th>LinkedIn_Followers</th>\n",
       "      <th>clusters</th>\n",
       "    </tr>\n",
       "  </thead>\n",
       "  <tbody>\n",
       "    <tr>\n",
       "      <th>0</th>\n",
       "      <td>C1</td>\n",
       "      <td>American Express</td>\n",
       "      <td>Fincial Services</td>\n",
       "      <td>10001</td>\n",
       "      <td>1701642</td>\n",
       "      <td>0</td>\n",
       "    </tr>\n",
       "    <tr>\n",
       "      <th>1</th>\n",
       "      <td>C2</td>\n",
       "      <td>Accenture in India</td>\n",
       "      <td>Information Technology &amp; Services</td>\n",
       "      <td>10001</td>\n",
       "      <td>1399337</td>\n",
       "      <td>0</td>\n",
       "    </tr>\n",
       "    <tr>\n",
       "      <th>2</th>\n",
       "      <td>C3</td>\n",
       "      <td>Colgate-Palmolive</td>\n",
       "      <td>Consumer Goods</td>\n",
       "      <td>10001</td>\n",
       "      <td>1975214</td>\n",
       "      <td>0</td>\n",
       "    </tr>\n",
       "    <tr>\n",
       "      <th>3</th>\n",
       "      <td>C4</td>\n",
       "      <td>Advance Auto Parts</td>\n",
       "      <td>Retail</td>\n",
       "      <td>10001</td>\n",
       "      <td>101668</td>\n",
       "      <td>0</td>\n",
       "    </tr>\n",
       "    <tr>\n",
       "      <th>4</th>\n",
       "      <td>C5</td>\n",
       "      <td>Novartis India</td>\n",
       "      <td>Pharmaceuticals</td>\n",
       "      <td>10001</td>\n",
       "      <td>111727</td>\n",
       "      <td>0</td>\n",
       "    </tr>\n",
       "    <tr>\n",
       "      <th>...</th>\n",
       "      <td>...</td>\n",
       "      <td>...</td>\n",
       "      <td>...</td>\n",
       "      <td>...</td>\n",
       "      <td>...</td>\n",
       "      <td>...</td>\n",
       "    </tr>\n",
       "    <tr>\n",
       "      <th>282</th>\n",
       "      <td>C283</td>\n",
       "      <td>QuestWorkx</td>\n",
       "      <td>Human Resources</td>\n",
       "      <td>10</td>\n",
       "      <td>2878</td>\n",
       "      <td>0</td>\n",
       "    </tr>\n",
       "    <tr>\n",
       "      <th>283</th>\n",
       "      <td>C284</td>\n",
       "      <td>ACZ Global Pvt Ltd</td>\n",
       "      <td>Human Resources</td>\n",
       "      <td>50</td>\n",
       "      <td>5047</td>\n",
       "      <td>0</td>\n",
       "    </tr>\n",
       "    <tr>\n",
       "      <th>284</th>\n",
       "      <td>C285</td>\n",
       "      <td>Lennox India Technology Centre</td>\n",
       "      <td>Mechanical Or Industrial Engineering</td>\n",
       "      <td>1000</td>\n",
       "      <td>29271</td>\n",
       "      <td>0</td>\n",
       "    </tr>\n",
       "    <tr>\n",
       "      <th>285</th>\n",
       "      <td>C286</td>\n",
       "      <td>Onqanet Technologies Pvt. Ltd.</td>\n",
       "      <td>Information Technology &amp; Services</td>\n",
       "      <td>200</td>\n",
       "      <td>814</td>\n",
       "      <td>0</td>\n",
       "    </tr>\n",
       "    <tr>\n",
       "      <th>286</th>\n",
       "      <td>C287</td>\n",
       "      <td>Zero Gravity Photography</td>\n",
       "      <td>Photography</td>\n",
       "      <td>500</td>\n",
       "      <td>2781</td>\n",
       "      <td>0</td>\n",
       "    </tr>\n",
       "  </tbody>\n",
       "</table>\n",
       "<p>284 rows × 6 columns</p>\n",
       "</div>"
      ],
      "text/plain": [
       "    CompanyID                    Company_Name  \\\n",
       "0          C1              American Express     \n",
       "1          C2              Accenture in India   \n",
       "2          C3               Colgate-Palmolive   \n",
       "3          C4              Advance Auto Parts   \n",
       "4          C5                  Novartis India   \n",
       "..        ...                             ...   \n",
       "282      C283                      QuestWorkx   \n",
       "283      C284              ACZ Global Pvt Ltd   \n",
       "284      C285  Lennox India Technology Centre   \n",
       "285      C286  Onqanet Technologies Pvt. Ltd.   \n",
       "286      C287        Zero Gravity Photography   \n",
       "\n",
       "                                 Industry  Employee_Count  LinkedIn_Followers  \\\n",
       "0                       Fincial Services            10001             1701642   \n",
       "1       Information Technology & Services           10001             1399337   \n",
       "2                          Consumer Goods           10001             1975214   \n",
       "3                                  Retail           10001              101668   \n",
       "4                       Pharmaceuticals             10001              111727   \n",
       "..                                    ...             ...                 ...   \n",
       "282                      Human Resources               10                2878   \n",
       "283                      Human Resources               50                5047   \n",
       "284  Mechanical Or Industrial Engineering            1000               29271   \n",
       "285     Information Technology & Services             200                 814   \n",
       "286                           Photography             500                2781   \n",
       "\n",
       "     clusters  \n",
       "0           0  \n",
       "1           0  \n",
       "2           0  \n",
       "3           0  \n",
       "4           0  \n",
       "..        ...  \n",
       "282         0  \n",
       "283         0  \n",
       "284         0  \n",
       "285         0  \n",
       "286         0  \n",
       "\n",
       "[284 rows x 6 columns]"
      ]
     },
     "execution_count": 27,
     "metadata": {},
     "output_type": "execute_result"
    }
   ],
   "source": [
    "df"
   ]
  },
  {
   "cell_type": "code",
   "execution_count": 28,
   "id": "8ca69294",
   "metadata": {},
   "outputs": [],
   "source": [
    "df.to_csv(\"clustering-classes.csv\")"
   ]
  },
  {
   "cell_type": "code",
   "execution_count": null,
   "id": "352e395a",
   "metadata": {},
   "outputs": [],
   "source": []
  }
 ],
 "metadata": {
  "kernelspec": {
   "display_name": "Python 3 (ipykernel)",
   "language": "python",
   "name": "python3"
  },
  "language_info": {
   "codemirror_mode": {
    "name": "ipython",
    "version": 3
   },
   "file_extension": ".py",
   "mimetype": "text/x-python",
   "name": "python",
   "nbconvert_exporter": "python",
   "pygments_lexer": "ipython3",
   "version": "3.9.12"
  }
 },
 "nbformat": 4,
 "nbformat_minor": 5
}
